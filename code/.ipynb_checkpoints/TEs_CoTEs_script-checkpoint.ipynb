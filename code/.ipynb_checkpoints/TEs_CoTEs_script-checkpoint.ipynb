{
 "cells": [
  {
   "cell_type": "code",
   "execution_count": 20,
   "id": "5240e045",
   "metadata": {},
   "outputs": [],
   "source": [
    "import pandas as pd\n",
    "import matplotlib.pyplot as plt\n",
    "from scipy.stats import mannwhitneyu"
   ]
  },
  {
   "cell_type": "markdown",
   "id": "ea961ba7",
   "metadata": {},
   "source": [
    "# Read bed files and preprocess"
   ]
  },
  {
   "cell_type": "markdown",
   "id": "493b011f",
   "metadata": {},
   "source": [
    "Read in the bed files"
   ]
  },
  {
   "cell_type": "code",
   "execution_count": 8,
   "id": "8cff38c1",
   "metadata": {},
   "outputs": [],
   "source": [
    "TEs_df = pd.read_csv('D:/TEs_CoTEs_pipline/data/V2-TEs/non_olap/TEs/85_Alu_Merged.bed',delimiter='\\t',header=None)\n",
    "CoTE_df=pd.read_csv('D:/TEs_CoTEs_pipline/data/V2-TEs/non_olap/cores1000/85_Alu_Merged.bed',delimiter='\\t',header=None)"
   ]
  },
  {
   "cell_type": "code",
   "execution_count": 7,
   "id": "d041bb28",
   "metadata": {},
   "outputs": [
    {
     "data": {
      "text/html": [
       "<div>\n",
       "<style scoped>\n",
       "    .dataframe tbody tr th:only-of-type {\n",
       "        vertical-align: middle;\n",
       "    }\n",
       "\n",
       "    .dataframe tbody tr th {\n",
       "        vertical-align: top;\n",
       "    }\n",
       "\n",
       "    .dataframe thead th {\n",
       "        text-align: right;\n",
       "    }\n",
       "</style>\n",
       "<table border=\"1\" class=\"dataframe\">\n",
       "  <thead>\n",
       "    <tr style=\"text-align: right;\">\n",
       "      <th></th>\n",
       "      <th>0</th>\n",
       "      <th>1</th>\n",
       "      <th>2</th>\n",
       "      <th>3</th>\n",
       "    </tr>\n",
       "  </thead>\n",
       "  <tbody>\n",
       "    <tr>\n",
       "      <th>0</th>\n",
       "      <td>chr1</td>\n",
       "      <td>33465</td>\n",
       "      <td>33509</td>\n",
       "      <td>1</td>\n",
       "    </tr>\n",
       "    <tr>\n",
       "      <th>1</th>\n",
       "      <td>chr1</td>\n",
       "      <td>203983</td>\n",
       "      <td>204027</td>\n",
       "      <td>1</td>\n",
       "    </tr>\n",
       "    <tr>\n",
       "      <th>2</th>\n",
       "      <td>chr1</td>\n",
       "      <td>994734</td>\n",
       "      <td>994791</td>\n",
       "      <td>1</td>\n",
       "    </tr>\n",
       "    <tr>\n",
       "      <th>3</th>\n",
       "      <td>chr1</td>\n",
       "      <td>1385413</td>\n",
       "      <td>1385458</td>\n",
       "      <td>1</td>\n",
       "    </tr>\n",
       "    <tr>\n",
       "      <th>4</th>\n",
       "      <td>chr1</td>\n",
       "      <td>1546510</td>\n",
       "      <td>1546554</td>\n",
       "      <td>1</td>\n",
       "    </tr>\n",
       "    <tr>\n",
       "      <th>...</th>\n",
       "      <td>...</td>\n",
       "      <td>...</td>\n",
       "      <td>...</td>\n",
       "      <td>...</td>\n",
       "    </tr>\n",
       "    <tr>\n",
       "      <th>4653</th>\n",
       "      <td>chrY</td>\n",
       "      <td>23686289</td>\n",
       "      <td>23686345</td>\n",
       "      <td>1</td>\n",
       "    </tr>\n",
       "    <tr>\n",
       "      <th>4654</th>\n",
       "      <td>chrY</td>\n",
       "      <td>25983730</td>\n",
       "      <td>25983786</td>\n",
       "      <td>1</td>\n",
       "    </tr>\n",
       "    <tr>\n",
       "      <th>4655</th>\n",
       "      <td>chrY</td>\n",
       "      <td>26296380</td>\n",
       "      <td>26296425</td>\n",
       "      <td>1</td>\n",
       "    </tr>\n",
       "    <tr>\n",
       "      <th>4656</th>\n",
       "      <td>chrY</td>\n",
       "      <td>26465356</td>\n",
       "      <td>26465400</td>\n",
       "      <td>1</td>\n",
       "    </tr>\n",
       "    <tr>\n",
       "      <th>4657</th>\n",
       "      <td>chrY</td>\n",
       "      <td>56858995</td>\n",
       "      <td>56859060</td>\n",
       "      <td>1</td>\n",
       "    </tr>\n",
       "  </tbody>\n",
       "</table>\n",
       "<p>4658 rows × 4 columns</p>\n",
       "</div>"
      ],
      "text/plain": [
       "         0         1         2  3\n",
       "0     chr1     33465     33509  1\n",
       "1     chr1    203983    204027  1\n",
       "2     chr1    994734    994791  1\n",
       "3     chr1   1385413   1385458  1\n",
       "4     chr1   1546510   1546554  1\n",
       "...    ...       ...       ... ..\n",
       "4653  chrY  23686289  23686345  1\n",
       "4654  chrY  25983730  25983786  1\n",
       "4655  chrY  26296380  26296425  1\n",
       "4656  chrY  26465356  26465400  1\n",
       "4657  chrY  56858995  56859060  1\n",
       "\n",
       "[4658 rows x 4 columns]"
      ]
     },
     "execution_count": 7,
     "metadata": {},
     "output_type": "execute_result"
    }
   ],
   "source": [
    "TEs_df"
   ]
  },
  {
   "cell_type": "code",
   "execution_count": 9,
   "id": "243bb03a",
   "metadata": {},
   "outputs": [
    {
     "data": {
      "text/html": [
       "<div>\n",
       "<style scoped>\n",
       "    .dataframe tbody tr th:only-of-type {\n",
       "        vertical-align: middle;\n",
       "    }\n",
       "\n",
       "    .dataframe tbody tr th {\n",
       "        vertical-align: top;\n",
       "    }\n",
       "\n",
       "    .dataframe thead th {\n",
       "        text-align: right;\n",
       "    }\n",
       "</style>\n",
       "<table border=\"1\" class=\"dataframe\">\n",
       "  <thead>\n",
       "    <tr style=\"text-align: right;\">\n",
       "      <th></th>\n",
       "      <th>0</th>\n",
       "      <th>1</th>\n",
       "      <th>2</th>\n",
       "    </tr>\n",
       "  </thead>\n",
       "  <tbody>\n",
       "    <tr>\n",
       "      <th>0</th>\n",
       "      <td>chr12</td>\n",
       "      <td>55826434</td>\n",
       "      <td>57937630</td>\n",
       "    </tr>\n",
       "    <tr>\n",
       "      <th>1</th>\n",
       "      <td>chr12</td>\n",
       "      <td>119812745</td>\n",
       "      <td>121496929</td>\n",
       "    </tr>\n",
       "    <tr>\n",
       "      <th>2</th>\n",
       "      <td>chr16</td>\n",
       "      <td>28438168</td>\n",
       "      <td>30317537</td>\n",
       "    </tr>\n",
       "    <tr>\n",
       "      <th>3</th>\n",
       "      <td>chr16</td>\n",
       "      <td>67685859</td>\n",
       "      <td>70353520</td>\n",
       "    </tr>\n",
       "    <tr>\n",
       "      <th>4</th>\n",
       "      <td>chr17</td>\n",
       "      <td>3736792</td>\n",
       "      <td>6083540</td>\n",
       "    </tr>\n",
       "    <tr>\n",
       "      <th>...</th>\n",
       "      <td>...</td>\n",
       "      <td>...</td>\n",
       "      <td>...</td>\n",
       "    </tr>\n",
       "    <tr>\n",
       "      <th>94</th>\n",
       "      <td>chr21</td>\n",
       "      <td>17500000</td>\n",
       "      <td>17527868</td>\n",
       "    </tr>\n",
       "    <tr>\n",
       "      <th>95</th>\n",
       "      <td>chr5</td>\n",
       "      <td>176993202</td>\n",
       "      <td>177009997</td>\n",
       "    </tr>\n",
       "    <tr>\n",
       "      <th>96</th>\n",
       "      <td>chr7</td>\n",
       "      <td>73763382</td>\n",
       "      <td>73798262</td>\n",
       "    </tr>\n",
       "    <tr>\n",
       "      <th>97</th>\n",
       "      <td>chr7</td>\n",
       "      <td>76374972</td>\n",
       "      <td>76392263</td>\n",
       "    </tr>\n",
       "    <tr>\n",
       "      <th>98</th>\n",
       "      <td>chr8</td>\n",
       "      <td>140594428</td>\n",
       "      <td>140609895</td>\n",
       "    </tr>\n",
       "  </tbody>\n",
       "</table>\n",
       "<p>99 rows × 3 columns</p>\n",
       "</div>"
      ],
      "text/plain": [
       "        0          1          2\n",
       "0   chr12   55826434   57937630\n",
       "1   chr12  119812745  121496929\n",
       "2   chr16   28438168   30317537\n",
       "3   chr16   67685859   70353520\n",
       "4   chr17    3736792    6083540\n",
       "..    ...        ...        ...\n",
       "94  chr21   17500000   17527868\n",
       "95   chr5  176993202  177009997\n",
       "96   chr7   73763382   73798262\n",
       "97   chr7   76374972   76392263\n",
       "98   chr8  140594428  140609895\n",
       "\n",
       "[99 rows x 3 columns]"
      ]
     },
     "execution_count": 9,
     "metadata": {},
     "output_type": "execute_result"
    }
   ],
   "source": [
    "CoTE_df"
   ]
  },
  {
   "cell_type": "markdown",
   "id": "fedd2a7a",
   "metadata": {},
   "source": [
    "Assign columns to the two dataframes"
   ]
  },
  {
   "cell_type": "code",
   "execution_count": 15,
   "id": "f41d2f80",
   "metadata": {},
   "outputs": [
    {
     "data": {
      "text/html": [
       "<div>\n",
       "<style scoped>\n",
       "    .dataframe tbody tr th:only-of-type {\n",
       "        vertical-align: middle;\n",
       "    }\n",
       "\n",
       "    .dataframe tbody tr th {\n",
       "        vertical-align: top;\n",
       "    }\n",
       "\n",
       "    .dataframe thead th {\n",
       "        text-align: right;\n",
       "    }\n",
       "</style>\n",
       "<table border=\"1\" class=\"dataframe\">\n",
       "  <thead>\n",
       "    <tr style=\"text-align: right;\">\n",
       "      <th></th>\n",
       "      <th>chr</th>\n",
       "      <th>start</th>\n",
       "      <th>end</th>\n",
       "    </tr>\n",
       "  </thead>\n",
       "  <tbody>\n",
       "    <tr>\n",
       "      <th>0</th>\n",
       "      <td>chr1</td>\n",
       "      <td>33465</td>\n",
       "      <td>33509</td>\n",
       "    </tr>\n",
       "    <tr>\n",
       "      <th>1</th>\n",
       "      <td>chr1</td>\n",
       "      <td>203983</td>\n",
       "      <td>204027</td>\n",
       "    </tr>\n",
       "    <tr>\n",
       "      <th>2</th>\n",
       "      <td>chr1</td>\n",
       "      <td>994734</td>\n",
       "      <td>994791</td>\n",
       "    </tr>\n",
       "    <tr>\n",
       "      <th>3</th>\n",
       "      <td>chr1</td>\n",
       "      <td>1385413</td>\n",
       "      <td>1385458</td>\n",
       "    </tr>\n",
       "    <tr>\n",
       "      <th>4</th>\n",
       "      <td>chr1</td>\n",
       "      <td>1546510</td>\n",
       "      <td>1546554</td>\n",
       "    </tr>\n",
       "  </tbody>\n",
       "</table>\n",
       "</div>"
      ],
      "text/plain": [
       "    chr    start      end\n",
       "0  chr1    33465    33509\n",
       "1  chr1   203983   204027\n",
       "2  chr1   994734   994791\n",
       "3  chr1  1385413  1385458\n",
       "4  chr1  1546510  1546554"
      ]
     },
     "execution_count": 15,
     "metadata": {},
     "output_type": "execute_result"
    }
   ],
   "source": [
    "TEs_df.columns=['chr','start','end','N']\n",
    "del TEs_df['N']\n",
    "TEs_df.head()"
   ]
  },
  {
   "cell_type": "code",
   "execution_count": 12,
   "id": "bcdfc550",
   "metadata": {},
   "outputs": [],
   "source": [
    "CoTE_df.columns=['chr','start','end']"
   ]
  },
  {
   "cell_type": "code",
   "execution_count": 14,
   "id": "16d1cc24",
   "metadata": {},
   "outputs": [
    {
     "data": {
      "text/html": [
       "<div>\n",
       "<style scoped>\n",
       "    .dataframe tbody tr th:only-of-type {\n",
       "        vertical-align: middle;\n",
       "    }\n",
       "\n",
       "    .dataframe tbody tr th {\n",
       "        vertical-align: top;\n",
       "    }\n",
       "\n",
       "    .dataframe thead th {\n",
       "        text-align: right;\n",
       "    }\n",
       "</style>\n",
       "<table border=\"1\" class=\"dataframe\">\n",
       "  <thead>\n",
       "    <tr style=\"text-align: right;\">\n",
       "      <th></th>\n",
       "      <th>chr</th>\n",
       "      <th>start</th>\n",
       "      <th>end</th>\n",
       "    </tr>\n",
       "  </thead>\n",
       "  <tbody>\n",
       "    <tr>\n",
       "      <th>0</th>\n",
       "      <td>chr12</td>\n",
       "      <td>55826434</td>\n",
       "      <td>57937630</td>\n",
       "    </tr>\n",
       "    <tr>\n",
       "      <th>1</th>\n",
       "      <td>chr12</td>\n",
       "      <td>119812745</td>\n",
       "      <td>121496929</td>\n",
       "    </tr>\n",
       "    <tr>\n",
       "      <th>2</th>\n",
       "      <td>chr16</td>\n",
       "      <td>28438168</td>\n",
       "      <td>30317537</td>\n",
       "    </tr>\n",
       "    <tr>\n",
       "      <th>3</th>\n",
       "      <td>chr16</td>\n",
       "      <td>67685859</td>\n",
       "      <td>70353520</td>\n",
       "    </tr>\n",
       "    <tr>\n",
       "      <th>4</th>\n",
       "      <td>chr17</td>\n",
       "      <td>3736792</td>\n",
       "      <td>6083540</td>\n",
       "    </tr>\n",
       "    <tr>\n",
       "      <th>...</th>\n",
       "      <td>...</td>\n",
       "      <td>...</td>\n",
       "      <td>...</td>\n",
       "    </tr>\n",
       "    <tr>\n",
       "      <th>94</th>\n",
       "      <td>chr21</td>\n",
       "      <td>17500000</td>\n",
       "      <td>17527868</td>\n",
       "    </tr>\n",
       "    <tr>\n",
       "      <th>95</th>\n",
       "      <td>chr5</td>\n",
       "      <td>176993202</td>\n",
       "      <td>177009997</td>\n",
       "    </tr>\n",
       "    <tr>\n",
       "      <th>96</th>\n",
       "      <td>chr7</td>\n",
       "      <td>73763382</td>\n",
       "      <td>73798262</td>\n",
       "    </tr>\n",
       "    <tr>\n",
       "      <th>97</th>\n",
       "      <td>chr7</td>\n",
       "      <td>76374972</td>\n",
       "      <td>76392263</td>\n",
       "    </tr>\n",
       "    <tr>\n",
       "      <th>98</th>\n",
       "      <td>chr8</td>\n",
       "      <td>140594428</td>\n",
       "      <td>140609895</td>\n",
       "    </tr>\n",
       "  </tbody>\n",
       "</table>\n",
       "<p>99 rows × 3 columns</p>\n",
       "</div>"
      ],
      "text/plain": [
       "      chr      start        end\n",
       "0   chr12   55826434   57937630\n",
       "1   chr12  119812745  121496929\n",
       "2   chr16   28438168   30317537\n",
       "3   chr16   67685859   70353520\n",
       "4   chr17    3736792    6083540\n",
       "..    ...        ...        ...\n",
       "94  chr21   17500000   17527868\n",
       "95   chr5  176993202  177009997\n",
       "96   chr7   73763382   73798262\n",
       "97   chr7   76374972   76392263\n",
       "98   chr8  140594428  140609895\n",
       "\n",
       "[99 rows x 3 columns]"
      ]
     },
     "execution_count": 14,
     "metadata": {},
     "output_type": "execute_result"
    }
   ],
   "source": [
    "CoTE_df"
   ]
  },
  {
   "cell_type": "code",
   "execution_count": 16,
   "id": "3e51db10",
   "metadata": {},
   "outputs": [],
   "source": [
    "chromosome_counts = TEs_df['chr'].value_counts()"
   ]
  },
  {
   "cell_type": "code",
   "execution_count": 23,
   "id": "fd7acbf4",
   "metadata": {},
   "outputs": [
    {
     "data": {
      "text/plain": [
       "(array([87.,  1.,  2.,  4.,  1.,  5.,  6.,  2.,  0.,  1.,  2.]),\n",
       " array([  1.        ,  32.81818182,  64.63636364,  96.45454545,\n",
       "        128.27272727, 160.09090909, 191.90909091, 223.72727273,\n",
       "        255.54545455, 287.36363636, 319.18181818, 351.        ]),\n",
       " <BarContainer object of 11 artists>)"
      ]
     },
     "execution_count": 23,
     "metadata": {},
     "output_type": "execute_result"
    },
    {
     "data": {
      "image/png": "[encoded data removed]",
      "text/plain": [
       "<Figure size 640x480 with 1 Axes>"
      ]
     },
     "metadata": {},
     "output_type": "display_data"
    }
   ],
   "source": [
    "plt.hist(chromosome_counts,bins=11,edgecolor='k')\n"
   ]
  },
  {
   "cell_type": "code",
   "execution_count": 24,
   "id": "87e891b0",
   "metadata": {},
   "outputs": [
    {
     "data": {
      "text/plain": [
       "(array([ 6., 10.,  1.,  1.,  5.,  2.,  0.,  0.,  2.,  1.]),\n",
       " array([ 1.,  2.,  3.,  4.,  5.,  6.,  7.,  8.,  9., 10., 11.]),\n",
       " <BarContainer object of 10 artists>)"
      ]
     },
     "execution_count": 24,
     "metadata": {},
     "output_type": "execute_result"
    },
    {
     "data": {
      "image/png": "[encoded data removed]",
      "text/plain": [
       "<Figure size 640x480 with 1 Axes>"
      ]
     },
     "metadata": {},
     "output_type": "display_data"
    }
   ],
   "source": [
    "cluster_chr=CoTE_df['chr'].value_counts()\n",
    "plt.hist(cluster_chr,edgecolor='k')"
   ]
  },
  {
   "cell_type": "markdown",
   "id": "3a8af4cd",
   "metadata": {},
   "source": [
    "Visually do not follow normal distribution, should use a non-parametric test instead"
   ]
  },
  {
   "cell_type": "markdown",
   "id": "3f44678a",
   "metadata": {},
   "source": [
    "# Perform Mann-Whitney U-test"
   ]
  },
  {
   "cell_type": "code",
   "execution_count": 64,
   "id": "13ef7234",
   "metadata": {},
   "outputs": [],
   "source": [
    "#This function return chromosome that has significant difference between the number of TEs and number of CoTEs\n",
    "def compare_counts(TEs, CoTEs, chromosome_of_interest):\n",
    "    # Subset data for the chosen chromosome\n",
    "    group1 = TEs[TEs['chr'] == chromosome_of_interest]\n",
    "    group2 = CoTEs[CoTEs['chr'] == chromosome_of_interest]\n",
    "\n",
    "    # Perform Mann-Whitney U test\n",
    "    if(len(group2)!=0):\n",
    "        try:\n",
    "            statistic, p_value = mannwhitneyu(group1.index, group2.index, alternative='two-sided')\n",
    "            if(p_value<=0.05):\n",
    "                return {'chr': chromosome_of_interest, 'p_value': p_value}\n",
    "        except ValueError:#when the sample sizes are too small\n",
    "            print(f\"Invalid test for chromosome {chromosome_of_interest}\")\n",
    "            return None\n",
    "    else:#if there is no cluster on the chromosome\n",
    "        return {'chr':chromosome_of_interest,'p_value':'NA'}"
   ]
  },
  {
   "cell_type": "code",
   "execution_count": 65,
   "id": "f77060d8",
   "metadata": {},
   "outputs": [],
   "source": [
    "unique_elements = TEs_df['chr'].unique()"
   ]
  },
  {
   "cell_type": "code",
   "execution_count": 68,
   "id": "519240cb",
   "metadata": {},
   "outputs": [],
   "source": [
    "results=[]\n",
    "for i in unique_elements:\n",
    "    result=compare_counts(TEs_df,CoTE_df,i)\n",
    "    if(result != None):\n",
    "        results.append(result)\n",
    "results_df = pd.DataFrame(results)\n"
   ]
  },
  {
   "cell_type": "code",
   "execution_count": 69,
   "id": "ee5d2998",
   "metadata": {},
   "outputs": [
    {
     "data": {
      "text/html": [
       "<div>\n",
       "<style scoped>\n",
       "    .dataframe tbody tr th:only-of-type {\n",
       "        vertical-align: middle;\n",
       "    }\n",
       "\n",
       "    .dataframe tbody tr th {\n",
       "        vertical-align: top;\n",
       "    }\n",
       "\n",
       "    .dataframe thead th {\n",
       "        text-align: right;\n",
       "    }\n",
       "</style>\n",
       "<table border=\"1\" class=\"dataframe\">\n",
       "  <thead>\n",
       "    <tr style=\"text-align: right;\">\n",
       "      <th></th>\n",
       "      <th>chr</th>\n",
       "      <th>p_value</th>\n",
       "    </tr>\n",
       "  </thead>\n",
       "  <tbody>\n",
       "    <tr>\n",
       "      <th>0</th>\n",
       "      <td>chr1</td>\n",
       "      <td>0.012228</td>\n",
       "    </tr>\n",
       "    <tr>\n",
       "      <th>1</th>\n",
       "      <td>chr10</td>\n",
       "      <td>0.0</td>\n",
       "    </tr>\n",
       "    <tr>\n",
       "      <th>2</th>\n",
       "      <td>chr10_KI270824v1_alt</td>\n",
       "      <td>NA</td>\n",
       "    </tr>\n",
       "    <tr>\n",
       "      <th>3</th>\n",
       "      <td>chr11</td>\n",
       "      <td>NA</td>\n",
       "    </tr>\n",
       "    <tr>\n",
       "      <th>4</th>\n",
       "      <td>chr11_JH159136v1_alt</td>\n",
       "      <td>NA</td>\n",
       "    </tr>\n",
       "    <tr>\n",
       "      <th>...</th>\n",
       "      <td>...</td>\n",
       "      <td>...</td>\n",
       "    </tr>\n",
       "    <tr>\n",
       "      <th>102</th>\n",
       "      <td>chrUn_KI270752v1</td>\n",
       "      <td>NA</td>\n",
       "    </tr>\n",
       "    <tr>\n",
       "      <th>103</th>\n",
       "      <td>chrX</td>\n",
       "      <td>0.000133</td>\n",
       "    </tr>\n",
       "    <tr>\n",
       "      <th>104</th>\n",
       "      <td>chrX_KI270880v1_alt</td>\n",
       "      <td>NA</td>\n",
       "    </tr>\n",
       "    <tr>\n",
       "      <th>105</th>\n",
       "      <td>chrX_KI270913v1_alt</td>\n",
       "      <td>NA</td>\n",
       "    </tr>\n",
       "    <tr>\n",
       "      <th>106</th>\n",
       "      <td>chrY</td>\n",
       "      <td>0.000702</td>\n",
       "    </tr>\n",
       "  </tbody>\n",
       "</table>\n",
       "<p>107 rows × 2 columns</p>\n",
       "</div>"
      ],
      "text/plain": [
       "                      chr   p_value\n",
       "0                    chr1  0.012228\n",
       "1                   chr10       0.0\n",
       "2    chr10_KI270824v1_alt        NA\n",
       "3                   chr11        NA\n",
       "4    chr11_JH159136v1_alt        NA\n",
       "..                    ...       ...\n",
       "102      chrUn_KI270752v1        NA\n",
       "103                  chrX  0.000133\n",
       "104   chrX_KI270880v1_alt        NA\n",
       "105   chrX_KI270913v1_alt        NA\n",
       "106                  chrY  0.000702\n",
       "\n",
       "[107 rows x 2 columns]"
      ]
     },
     "execution_count": 69,
     "metadata": {},
     "output_type": "execute_result"
    }
   ],
   "source": [
    "results_df"
   ]
  },
  {
   "cell_type": "code",
   "execution_count": 70,
   "id": "c9451984",
   "metadata": {},
   "outputs": [
    {
     "data": {
      "text/plain": [
       "111"
      ]
     },
     "execution_count": 70,
     "metadata": {},
     "output_type": "execute_result"
    }
   ],
   "source": [
    "len(unique_elements)"
   ]
  },
  {
   "cell_type": "code",
   "execution_count": null,
   "id": "b582194f",
   "metadata": {},
   "outputs": [],
   "source": []
  }
 ],
 "metadata": {
  "kernelspec": {
   "display_name": "Python 3 (ipykernel)",
   "language": "python",
   "name": "python3"
  },
  "language_info": {
   "codemirror_mode": {
    "name": "ipython",
    "version": 3
   },
   "file_extension": ".py",
   "mimetype": "text/x-python",
   "name": "python",
   "nbconvert_exporter": "python",
   "pygments_lexer": "ipython3",
   "version": "3.11.4"
  }
 },
 "nbformat": 4,
 "nbformat_minor": 5
}

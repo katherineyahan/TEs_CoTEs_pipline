{
 "cells": [
  {
   "cell_type": "code",
   "execution_count": 119,
   "id": "5240e045",
   "metadata": {},
   "outputs": [],
   "source": [
    "import pandas as pd\n",
    "import matplotlib.pyplot as plt\n",
    "from scipy.stats import mannwhitneyu\n",
    "from scipy.stats import kstest\n",
    "import numpy as np"
   ]
  },
  {
   "cell_type": "markdown",
   "id": "51b8faa5",
   "metadata": {},
   "source": [
    "# Read bed files and preprocess"
   ]
  },
  {
   "cell_type": "markdown",
   "id": "ae8a94e5",
   "metadata": {},
   "source": [
    "Read in the bed files"
   ]
  },
  {
   "cell_type": "code",
   "execution_count": 120,
   "id": "868b611e",
   "metadata": {},
   "outputs": [],
   "source": [
    "TEs_df = pd.read_csv('D:/TEs_CoTEs_pipline/data/V2-TEs/non_olap/TEs/542_L1MA1_Merged.bed',delimiter='\\t',header=None)\n",
    "CoTE_df=pd.read_csv('D:/TEs_CoTEs_pipline/data/V2-TEs/non_olap/cores1000/542_L1MA1_Merged.bed',delimiter='\\t',header=None)"
   ]
  },
  {
   "cell_type": "markdown",
   "id": "78598be7",
   "metadata": {},
   "source": [
    "Assign columns to the two dataframes"
   ]
  },
  {
   "cell_type": "code",
   "execution_count": 121,
   "id": "63317041",
   "metadata": {},
   "outputs": [
    {
     "data": {
      "text/html": [
       "<div>\n",
       "<style scoped>\n",
       "    .dataframe tbody tr th:only-of-type {\n",
       "        vertical-align: middle;\n",
       "    }\n",
       "\n",
       "    .dataframe tbody tr th {\n",
       "        vertical-align: top;\n",
       "    }\n",
       "\n",
       "    .dataframe thead th {\n",
       "        text-align: right;\n",
       "    }\n",
       "</style>\n",
       "<table border=\"1\" class=\"dataframe\">\n",
       "  <thead>\n",
       "    <tr style=\"text-align: right;\">\n",
       "      <th></th>\n",
       "      <th>chr</th>\n",
       "      <th>start</th>\n",
       "      <th>end</th>\n",
       "    </tr>\n",
       "  </thead>\n",
       "  <tbody>\n",
       "    <tr>\n",
       "      <th>0</th>\n",
       "      <td>chr1</td>\n",
       "      <td>4075107</td>\n",
       "      <td>4075198</td>\n",
       "    </tr>\n",
       "    <tr>\n",
       "      <th>1</th>\n",
       "      <td>chr1</td>\n",
       "      <td>5553424</td>\n",
       "      <td>5553604</td>\n",
       "    </tr>\n",
       "    <tr>\n",
       "      <th>2</th>\n",
       "      <td>chr1</td>\n",
       "      <td>6312196</td>\n",
       "      <td>6312457</td>\n",
       "    </tr>\n",
       "    <tr>\n",
       "      <th>3</th>\n",
       "      <td>chr1</td>\n",
       "      <td>6312767</td>\n",
       "      <td>6312853</td>\n",
       "    </tr>\n",
       "    <tr>\n",
       "      <th>4</th>\n",
       "      <td>chr1</td>\n",
       "      <td>9585312</td>\n",
       "      <td>9585506</td>\n",
       "    </tr>\n",
       "  </tbody>\n",
       "</table>\n",
       "</div>"
      ],
      "text/plain": [
       "    chr    start      end\n",
       "0  chr1  4075107  4075198\n",
       "1  chr1  5553424  5553604\n",
       "2  chr1  6312196  6312457\n",
       "3  chr1  6312767  6312853\n",
       "4  chr1  9585312  9585506"
      ]
     },
     "execution_count": 121,
     "metadata": {},
     "output_type": "execute_result"
    }
   ],
   "source": [
    "TEs_df.columns=['chr','start','end','N']\n",
    "del TEs_df['N']\n",
    "TEs_df.head()"
   ]
  },
  {
   "cell_type": "code",
   "execution_count": 122,
   "id": "fd4375e9",
   "metadata": {},
   "outputs": [],
   "source": [
    "CoTE_df.columns=['chr','start','end']"
   ]
  },
  {
   "cell_type": "code",
   "execution_count": 123,
   "id": "76527459",
   "metadata": {},
   "outputs": [],
   "source": [
    "chromosome_counts = TEs_df['chr'].value_counts()"
   ]
  },
  {
   "cell_type": "code",
   "execution_count": 124,
   "id": "7e7fac4a",
   "metadata": {},
   "outputs": [
    {
     "data": {
      "text/plain": [
       "(array([54.,  7.,  3.,  5.,  0.,  1.,  0.,  0.,  0.,  0.,  1.]),\n",
       " array([  1.,  77., 153., 229., 305., 381., 457., 533., 609., 685., 761.,\n",
       "        837.]),\n",
       " <BarContainer object of 11 artists>)"
      ]
     },
     "execution_count": 124,
     "metadata": {},
     "output_type": "execute_result"
    },
    {
     "data": {
      "image/png": "[encoded data removed]",
      "text/plain": [
       "<Figure size 640x480 with 1 Axes>"
      ]
     },
     "metadata": {},
     "output_type": "display_data"
    }
   ],
   "source": [
    "plt.hist(chromosome_counts,bins=11,edgecolor='k')\n"
   ]
  },
  {
   "cell_type": "code",
   "execution_count": 125,
   "id": "be5f3088",
   "metadata": {},
   "outputs": [
    {
     "data": {
      "text/plain": [
       "(array([17.,  1.,  0.,  0.,  0.,  0.,  0.,  0.,  0.,  1.]),\n",
       " array([ 1. ,  3.2,  5.4,  7.6,  9.8, 12. , 14.2, 16.4, 18.6, 20.8, 23. ]),\n",
       " <BarContainer object of 10 artists>)"
      ]
     },
     "execution_count": 125,
     "metadata": {},
     "output_type": "execute_result"
    },
    {
     "data": {
      "image/png": "[encoded data removed]",
      "text/plain": [
       "<Figure size 640x480 with 1 Axes>"
      ]
     },
     "metadata": {},
     "output_type": "display_data"
    }
   ],
   "source": [
    "cluster_chr=CoTE_df['chr'].value_counts()\n",
    "plt.hist(cluster_chr,edgecolor='k')"
   ]
  },
  {
   "cell_type": "markdown",
   "id": "feb84f8a",
   "metadata": {},
   "source": [
    "Visually do not follow normal distribution, should use a non-parametric test instead"
   ]
  },
  {
   "cell_type": "markdown",
   "id": "70715917",
   "metadata": {},
   "source": [
    "# Visualization"
   ]
  },
  {
   "cell_type": "markdown",
   "id": "1193eab1",
   "metadata": {},
   "source": [
    "Plot bar graph to visualize the differences between the number of TEs and CoTEs on different chromosome."
   ]
  },
  {
   "cell_type": "code",
   "execution_count": 126,
   "id": "45811c59",
   "metadata": {},
   "outputs": [],
   "source": [
    "def visualize(TEs,CoTEs,chromosomes):\n",
    "    bar_TEs=[]\n",
    "    bar_CoTEs=[]\n",
    "    total_TEs=len(TEs)\n",
    "    total_CoTEs=len(CoTEs)\n",
    "    for chromosome in chromosomes:\n",
    "        num_TEs= len(TEs[TEs['chr'] == chromosome])\n",
    "        percent_TE=num_TEs/total_TEs\n",
    "        bar_TEs.append(percent_TE)\n",
    "        num_CoTEs=len(CoTEs[CoTEs['chr'] == chromosome])\n",
    "        percent_CoTEs=num_CoTEs/total_CoTEs\n",
    "        bar_CoTEs.append(percent_CoTEs)\n",
    "    bar_width = 0.4\n",
    "    index = np.arange(len(chromosomes))\n",
    "\n",
    "    fig, ax = plt.subplots(figsize=(12, 8))\n",
    "\n",
    "    cotes_bars = ax.bar(index , bar_CoTEs, bar_width, label='CoTEs')\n",
    "    tes_bars = ax.bar(index+bar_width , bar_TEs, bar_width, label='TEs')\n",
    "\n",
    "    ax.set_xlabel('Chromosomes')\n",
    "    ax.set_ylabel('Percentage')\n",
    "    ax.set_title('L1MA1')\n",
    "    ax.set_xticks(index + bar_width / 2)\n",
    "    ax.set_xticklabels(chromosomes, rotation=60, ha='right')\n",
    "    ax.legend()\n",
    "\n",
    "    plt.show()\n",
    "    return bar_CoTEs,bar_TEs"
   ]
  },
  {
   "cell_type": "code",
   "execution_count": 127,
   "id": "3b31a3c2",
   "metadata": {},
   "outputs": [],
   "source": [
    "unique_chr=['chr1','ch2','chr3','chr4','chr5','chr6','chr7','chr8','chr9','chr10','chr11','chr12','chr13','chr14','chr15','chr16','chr17','chr18','chr19','chr20','chr21','chr22','chrX','chrY']"
   ]
  },
  {
   "cell_type": "code",
   "execution_count": 128,
   "id": "00f3b3b5",
   "metadata": {},
   "outputs": [
    {
     "data": {
      "image/png": "[encoded data removed]",
      "text/plain": [
       "<Figure size 1200x800 with 1 Axes>"
      ]
     },
     "metadata": {},
     "output_type": "display_data"
    }
   ],
   "source": [
    "per_CoTEs,per_TEs=visualize(TEs_df,CoTE_df,unique_chr)"
   ]
  },
  {
   "cell_type": "code",
   "execution_count": 170,
   "id": "b7602c7a",
   "metadata": {},
   "outputs": [],
   "source": [
    "df = pd.DataFrame({'chr': unique_chr, 'TEs': per_TEs, 'CoTEs': per_CoTEs,'difference':[x - y for x, y in zip(per_TEs, per_CoTEs)]})"
   ]
  },
  {
   "cell_type": "code",
   "execution_count": 130,
   "id": "a253bc6b",
   "metadata": {},
   "outputs": [
    {
     "data": {
      "text/plain": [
       "(array([ 1.,  0.,  0.,  0.,  0.,  0.,  1.,  6., 12.,  4.]),\n",
       " array([-0.26798348, -0.23439872, -0.20081395, -0.16722918, -0.13364441,\n",
       "        -0.10005965, -0.06647488, -0.03289011,  0.00069465,  0.03427942,\n",
       "         0.06786419]),\n",
       " <BarContainer object of 10 artists>)"
      ]
     },
     "execution_count": 130,
     "metadata": {},
     "output_type": "execute_result"
    },
    {
     "data": {
      "image/png": "[encoded data removed]",
      "text/plain": [
       "<Figure size 640x480 with 1 Axes>"
      ]
     },
     "metadata": {},
     "output_type": "display_data"
    }
   ],
   "source": [
    "plt.hist(df['difference'],edgecolor='k')"
   ]
  },
  {
   "cell_type": "code",
   "execution_count": 171,
   "id": "c25bfe6f",
   "metadata": {},
   "outputs": [
    {
     "data": {
      "text/html": [
       "<div>\n",
       "<style scoped>\n",
       "    .dataframe tbody tr th:only-of-type {\n",
       "        vertical-align: middle;\n",
       "    }\n",
       "\n",
       "    .dataframe tbody tr th {\n",
       "        vertical-align: top;\n",
       "    }\n",
       "\n",
       "    .dataframe thead th {\n",
       "        text-align: right;\n",
       "    }\n",
       "</style>\n",
       "<table border=\"1\" class=\"dataframe\">\n",
       "  <thead>\n",
       "    <tr style=\"text-align: right;\">\n",
       "      <th></th>\n",
       "      <th>chr</th>\n",
       "      <th>TEs</th>\n",
       "      <th>CoTEs</th>\n",
       "      <th>difference</th>\n",
       "    </tr>\n",
       "  </thead>\n",
       "  <tbody>\n",
       "    <tr>\n",
       "      <th>0</th>\n",
       "      <td>chr1</td>\n",
       "      <td>0.066070</td>\n",
       "      <td>0.06</td>\n",
       "      <td>0.006070</td>\n",
       "    </tr>\n",
       "    <tr>\n",
       "      <th>1</th>\n",
       "      <td>ch2</td>\n",
       "      <td>0.000000</td>\n",
       "      <td>0.00</td>\n",
       "      <td>0.000000</td>\n",
       "    </tr>\n",
       "    <tr>\n",
       "      <th>2</th>\n",
       "      <td>chr3</td>\n",
       "      <td>0.087864</td>\n",
       "      <td>0.02</td>\n",
       "      <td>0.067864</td>\n",
       "    </tr>\n",
       "    <tr>\n",
       "      <th>3</th>\n",
       "      <td>chr4</td>\n",
       "      <td>0.058041</td>\n",
       "      <td>0.04</td>\n",
       "      <td>0.018041</td>\n",
       "    </tr>\n",
       "    <tr>\n",
       "      <th>4</th>\n",
       "      <td>chr5</td>\n",
       "      <td>0.057811</td>\n",
       "      <td>0.10</td>\n",
       "      <td>-0.042189</td>\n",
       "    </tr>\n",
       "    <tr>\n",
       "      <th>5</th>\n",
       "      <td>chr6</td>\n",
       "      <td>0.058500</td>\n",
       "      <td>0.06</td>\n",
       "      <td>-0.001500</td>\n",
       "    </tr>\n",
       "    <tr>\n",
       "      <th>6</th>\n",
       "      <td>chr7</td>\n",
       "      <td>0.039688</td>\n",
       "      <td>0.00</td>\n",
       "      <td>0.039688</td>\n",
       "    </tr>\n",
       "    <tr>\n",
       "      <th>7</th>\n",
       "      <td>chr8</td>\n",
       "      <td>0.037164</td>\n",
       "      <td>0.00</td>\n",
       "      <td>0.037164</td>\n",
       "    </tr>\n",
       "    <tr>\n",
       "      <th>8</th>\n",
       "      <td>chr9</td>\n",
       "      <td>0.030970</td>\n",
       "      <td>0.00</td>\n",
       "      <td>0.030970</td>\n",
       "    </tr>\n",
       "    <tr>\n",
       "      <th>9</th>\n",
       "      <td>chr10</td>\n",
       "      <td>0.037853</td>\n",
       "      <td>0.02</td>\n",
       "      <td>0.017853</td>\n",
       "    </tr>\n",
       "    <tr>\n",
       "      <th>10</th>\n",
       "      <td>chr11</td>\n",
       "      <td>0.028906</td>\n",
       "      <td>0.00</td>\n",
       "      <td>0.028906</td>\n",
       "    </tr>\n",
       "    <tr>\n",
       "      <th>11</th>\n",
       "      <td>chr12</td>\n",
       "      <td>0.034412</td>\n",
       "      <td>0.00</td>\n",
       "      <td>0.034412</td>\n",
       "    </tr>\n",
       "    <tr>\n",
       "      <th>12</th>\n",
       "      <td>chr13</td>\n",
       "      <td>0.022023</td>\n",
       "      <td>0.02</td>\n",
       "      <td>0.002023</td>\n",
       "    </tr>\n",
       "    <tr>\n",
       "      <th>13</th>\n",
       "      <td>chr14</td>\n",
       "      <td>0.024547</td>\n",
       "      <td>0.02</td>\n",
       "      <td>0.004547</td>\n",
       "    </tr>\n",
       "    <tr>\n",
       "      <th>14</th>\n",
       "      <td>chr15</td>\n",
       "      <td>0.016747</td>\n",
       "      <td>0.02</td>\n",
       "      <td>-0.003253</td>\n",
       "    </tr>\n",
       "    <tr>\n",
       "      <th>15</th>\n",
       "      <td>chr16</td>\n",
       "      <td>0.021794</td>\n",
       "      <td>0.00</td>\n",
       "      <td>0.021794</td>\n",
       "    </tr>\n",
       "    <tr>\n",
       "      <th>16</th>\n",
       "      <td>chr17</td>\n",
       "      <td>0.016976</td>\n",
       "      <td>0.02</td>\n",
       "      <td>-0.003024</td>\n",
       "    </tr>\n",
       "    <tr>\n",
       "      <th>17</th>\n",
       "      <td>chr18</td>\n",
       "      <td>0.019500</td>\n",
       "      <td>0.00</td>\n",
       "      <td>0.019500</td>\n",
       "    </tr>\n",
       "    <tr>\n",
       "      <th>18</th>\n",
       "      <td>chr19</td>\n",
       "      <td>0.010323</td>\n",
       "      <td>0.02</td>\n",
       "      <td>-0.009677</td>\n",
       "    </tr>\n",
       "    <tr>\n",
       "      <th>19</th>\n",
       "      <td>chr20</td>\n",
       "      <td>0.007571</td>\n",
       "      <td>0.00</td>\n",
       "      <td>0.007571</td>\n",
       "    </tr>\n",
       "    <tr>\n",
       "      <th>20</th>\n",
       "      <td>chr21</td>\n",
       "      <td>0.015600</td>\n",
       "      <td>0.02</td>\n",
       "      <td>-0.004400</td>\n",
       "    </tr>\n",
       "    <tr>\n",
       "      <th>21</th>\n",
       "      <td>chr22</td>\n",
       "      <td>0.005965</td>\n",
       "      <td>0.00</td>\n",
       "      <td>0.005965</td>\n",
       "    </tr>\n",
       "    <tr>\n",
       "      <th>22</th>\n",
       "      <td>chrX</td>\n",
       "      <td>0.192017</td>\n",
       "      <td>0.46</td>\n",
       "      <td>-0.267983</td>\n",
       "    </tr>\n",
       "    <tr>\n",
       "      <th>23</th>\n",
       "      <td>chrY</td>\n",
       "      <td>0.016976</td>\n",
       "      <td>0.00</td>\n",
       "      <td>0.016976</td>\n",
       "    </tr>\n",
       "  </tbody>\n",
       "</table>\n",
       "</div>"
      ],
      "text/plain": [
       "      chr       TEs  CoTEs  difference\n",
       "0    chr1  0.066070   0.06    0.006070\n",
       "1     ch2  0.000000   0.00    0.000000\n",
       "2    chr3  0.087864   0.02    0.067864\n",
       "3    chr4  0.058041   0.04    0.018041\n",
       "4    chr5  0.057811   0.10   -0.042189\n",
       "5    chr6  0.058500   0.06   -0.001500\n",
       "6    chr7  0.039688   0.00    0.039688\n",
       "7    chr8  0.037164   0.00    0.037164\n",
       "8    chr9  0.030970   0.00    0.030970\n",
       "9   chr10  0.037853   0.02    0.017853\n",
       "10  chr11  0.028906   0.00    0.028906\n",
       "11  chr12  0.034412   0.00    0.034412\n",
       "12  chr13  0.022023   0.02    0.002023\n",
       "13  chr14  0.024547   0.02    0.004547\n",
       "14  chr15  0.016747   0.02   -0.003253\n",
       "15  chr16  0.021794   0.00    0.021794\n",
       "16  chr17  0.016976   0.02   -0.003024\n",
       "17  chr18  0.019500   0.00    0.019500\n",
       "18  chr19  0.010323   0.02   -0.009677\n",
       "19  chr20  0.007571   0.00    0.007571\n",
       "20  chr21  0.015600   0.02   -0.004400\n",
       "21  chr22  0.005965   0.00    0.005965\n",
       "22   chrX  0.192017   0.46   -0.267983\n",
       "23   chrY  0.016976   0.00    0.016976"
      ]
     },
     "execution_count": 171,
     "metadata": {},
     "output_type": "execute_result"
    }
   ],
   "source": [
    "df"
   ]
  },
  {
   "cell_type": "markdown",
   "id": "3ab78d5e",
   "metadata": {},
   "source": [
    "# Find outliers"
   ]
  },
  {
   "cell_type": "code",
   "execution_count": 131,
   "id": "0c3c5a38",
   "metadata": {},
   "outputs": [
    {
     "data": {
      "text/plain": [
       "{'whiskers': [<matplotlib.lines.Line2D at 0x1836a4b6090>,\n",
       "  <matplotlib.lines.Line2D at 0x1836a4b6ad0>],\n",
       " 'caps': [<matplotlib.lines.Line2D at 0x1836a4b7450>,\n",
       "  <matplotlib.lines.Line2D at 0x1836a4b7c10>],\n",
       " 'boxes': [<matplotlib.lines.Line2D at 0x1836a4b5710>],\n",
       " 'medians': [<matplotlib.lines.Line2D at 0x1836a4c4410>],\n",
       " 'fliers': [<matplotlib.lines.Line2D at 0x1836a4b5f10>],\n",
       " 'means': []}"
      ]
     },
     "execution_count": 131,
     "metadata": {},
     "output_type": "execute_result"
    },
    {
     "data": {
      "image/png": "[encoded data removed]",
      "text/plain": [
       "<Figure size 640x480 with 1 Axes>"
      ]
     },
     "metadata": {},
     "output_type": "display_data"
    }
   ],
   "source": [
    "plt.boxplot(df['difference'])"
   ]
  },
  {
   "cell_type": "code",
   "execution_count": 132,
   "id": "6d6503a7",
   "metadata": {},
   "outputs": [],
   "source": [
    "def find_outliers_IQR(df):\n",
    "\n",
    "   q1=df.quantile(0.25)\n",
    "\n",
    "   q3=df.quantile(0.75)\n",
    "\n",
    "   IQR=q3-q1\n",
    "\n",
    "   outliers = df[((df<(q1-1.7*IQR)) | (df>(q3+1.7*IQR)))]\n",
    "\n",
    "   return outliers"
   ]
  },
  {
   "cell_type": "code",
   "execution_count": 133,
   "id": "19e6e317",
   "metadata": {},
   "outputs": [],
   "source": [
    "outliers=find_outliers_IQR(df['difference'])\n",
    "IQR = df.iloc[outliers.index]"
   ]
  },
  {
   "cell_type": "code",
   "execution_count": 134,
   "id": "036e4ebb",
   "metadata": {},
   "outputs": [
    {
     "data": {
      "text/html": [
       "<div>\n",
       "<style scoped>\n",
       "    .dataframe tbody tr th:only-of-type {\n",
       "        vertical-align: middle;\n",
       "    }\n",
       "\n",
       "    .dataframe tbody tr th {\n",
       "        vertical-align: top;\n",
       "    }\n",
       "\n",
       "    .dataframe thead th {\n",
       "        text-align: right;\n",
       "    }\n",
       "</style>\n",
       "<table border=\"1\" class=\"dataframe\">\n",
       "  <thead>\n",
       "    <tr style=\"text-align: right;\">\n",
       "      <th></th>\n",
       "      <th>chr</th>\n",
       "      <th>TEs</th>\n",
       "      <th>CoTEs</th>\n",
       "      <th>difference</th>\n",
       "    </tr>\n",
       "  </thead>\n",
       "  <tbody>\n",
       "    <tr>\n",
       "      <th>2</th>\n",
       "      <td>chr3</td>\n",
       "      <td>0.087864</td>\n",
       "      <td>0.02</td>\n",
       "      <td>0.067864</td>\n",
       "    </tr>\n",
       "    <tr>\n",
       "      <th>22</th>\n",
       "      <td>chrX</td>\n",
       "      <td>0.192017</td>\n",
       "      <td>0.46</td>\n",
       "      <td>-0.267983</td>\n",
       "    </tr>\n",
       "  </tbody>\n",
       "</table>\n",
       "</div>"
      ],
      "text/plain": [
       "     chr       TEs  CoTEs  difference\n",
       "2   chr3  0.087864   0.02    0.067864\n",
       "22  chrX  0.192017   0.46   -0.267983"
      ]
     },
     "execution_count": 134,
     "metadata": {},
     "output_type": "execute_result"
    }
   ],
   "source": [
    "IQR #negative: clusters take up more proportion"
   ]
  },
  {
   "cell_type": "markdown",
   "id": "78a4ed9b",
   "metadata": {},
   "source": [
    "# Z-score"
   ]
  },
  {
   "cell_type": "code",
   "execution_count": 172,
   "id": "862edd2a",
   "metadata": {},
   "outputs": [],
   "source": [
    "def z_score(df):\n",
    "    m=np.mean(df['difference'])\n",
    "    s=np.std(df['difference'])\n",
    "    copy_df=df.copy()\n",
    "    copy_df['z-score']=(copy_df['difference']-m)/s\n",
    "    df_outlier=copy_df[abs(copy_df['z-score'])>3]\n",
    "    return df_outlier"
   ]
  },
  {
   "cell_type": "code",
   "execution_count": 173,
   "id": "04dd69ee",
   "metadata": {},
   "outputs": [],
   "source": [
    "z_outliers=z_score(df)"
   ]
  },
  {
   "cell_type": "code",
   "execution_count": 174,
   "id": "d8883706",
   "metadata": {},
   "outputs": [
    {
     "data": {
      "text/html": [
       "<div>\n",
       "<style scoped>\n",
       "    .dataframe tbody tr th:only-of-type {\n",
       "        vertical-align: middle;\n",
       "    }\n",
       "\n",
       "    .dataframe tbody tr th {\n",
       "        vertical-align: top;\n",
       "    }\n",
       "\n",
       "    .dataframe thead th {\n",
       "        text-align: right;\n",
       "    }\n",
       "</style>\n",
       "<table border=\"1\" class=\"dataframe\">\n",
       "  <thead>\n",
       "    <tr style=\"text-align: right;\">\n",
       "      <th></th>\n",
       "      <th>chr</th>\n",
       "      <th>TEs</th>\n",
       "      <th>CoTEs</th>\n",
       "      <th>difference</th>\n",
       "      <th>z-score</th>\n",
       "    </tr>\n",
       "  </thead>\n",
       "  <tbody>\n",
       "    <tr>\n",
       "      <th>22</th>\n",
       "      <td>chrX</td>\n",
       "      <td>0.192017</td>\n",
       "      <td>0.46</td>\n",
       "      <td>-0.267983</td>\n",
       "      <td>-4.491038</td>\n",
       "    </tr>\n",
       "  </tbody>\n",
       "</table>\n",
       "</div>"
      ],
      "text/plain": [
       "     chr       TEs  CoTEs  difference   z-score\n",
       "22  chrX  0.192017   0.46   -0.267983 -4.491038"
      ]
     },
     "execution_count": 174,
     "metadata": {},
     "output_type": "execute_result"
    }
   ],
   "source": [
    "z_outliers"
   ]
  },
  {
   "cell_type": "code",
   "execution_count": 175,
   "id": "57700157",
   "metadata": {},
   "outputs": [
    {
     "data": {
      "text/html": [
       "<div>\n",
       "<style scoped>\n",
       "    .dataframe tbody tr th:only-of-type {\n",
       "        vertical-align: middle;\n",
       "    }\n",
       "\n",
       "    .dataframe tbody tr th {\n",
       "        vertical-align: top;\n",
       "    }\n",
       "\n",
       "    .dataframe thead th {\n",
       "        text-align: right;\n",
       "    }\n",
       "</style>\n",
       "<table border=\"1\" class=\"dataframe\">\n",
       "  <thead>\n",
       "    <tr style=\"text-align: right;\">\n",
       "      <th></th>\n",
       "      <th>chr</th>\n",
       "      <th>TEs</th>\n",
       "      <th>CoTEs</th>\n",
       "      <th>difference</th>\n",
       "    </tr>\n",
       "  </thead>\n",
       "  <tbody>\n",
       "    <tr>\n",
       "      <th>0</th>\n",
       "      <td>chr1</td>\n",
       "      <td>0.066070</td>\n",
       "      <td>0.06</td>\n",
       "      <td>0.006070</td>\n",
       "    </tr>\n",
       "    <tr>\n",
       "      <th>1</th>\n",
       "      <td>ch2</td>\n",
       "      <td>0.000000</td>\n",
       "      <td>0.00</td>\n",
       "      <td>0.000000</td>\n",
       "    </tr>\n",
       "    <tr>\n",
       "      <th>2</th>\n",
       "      <td>chr3</td>\n",
       "      <td>0.087864</td>\n",
       "      <td>0.02</td>\n",
       "      <td>0.067864</td>\n",
       "    </tr>\n",
       "    <tr>\n",
       "      <th>3</th>\n",
       "      <td>chr4</td>\n",
       "      <td>0.058041</td>\n",
       "      <td>0.04</td>\n",
       "      <td>0.018041</td>\n",
       "    </tr>\n",
       "    <tr>\n",
       "      <th>4</th>\n",
       "      <td>chr5</td>\n",
       "      <td>0.057811</td>\n",
       "      <td>0.10</td>\n",
       "      <td>-0.042189</td>\n",
       "    </tr>\n",
       "    <tr>\n",
       "      <th>5</th>\n",
       "      <td>chr6</td>\n",
       "      <td>0.058500</td>\n",
       "      <td>0.06</td>\n",
       "      <td>-0.001500</td>\n",
       "    </tr>\n",
       "    <tr>\n",
       "      <th>6</th>\n",
       "      <td>chr7</td>\n",
       "      <td>0.039688</td>\n",
       "      <td>0.00</td>\n",
       "      <td>0.039688</td>\n",
       "    </tr>\n",
       "    <tr>\n",
       "      <th>7</th>\n",
       "      <td>chr8</td>\n",
       "      <td>0.037164</td>\n",
       "      <td>0.00</td>\n",
       "      <td>0.037164</td>\n",
       "    </tr>\n",
       "    <tr>\n",
       "      <th>8</th>\n",
       "      <td>chr9</td>\n",
       "      <td>0.030970</td>\n",
       "      <td>0.00</td>\n",
       "      <td>0.030970</td>\n",
       "    </tr>\n",
       "    <tr>\n",
       "      <th>9</th>\n",
       "      <td>chr10</td>\n",
       "      <td>0.037853</td>\n",
       "      <td>0.02</td>\n",
       "      <td>0.017853</td>\n",
       "    </tr>\n",
       "    <tr>\n",
       "      <th>10</th>\n",
       "      <td>chr11</td>\n",
       "      <td>0.028906</td>\n",
       "      <td>0.00</td>\n",
       "      <td>0.028906</td>\n",
       "    </tr>\n",
       "    <tr>\n",
       "      <th>11</th>\n",
       "      <td>chr12</td>\n",
       "      <td>0.034412</td>\n",
       "      <td>0.00</td>\n",
       "      <td>0.034412</td>\n",
       "    </tr>\n",
       "    <tr>\n",
       "      <th>12</th>\n",
       "      <td>chr13</td>\n",
       "      <td>0.022023</td>\n",
       "      <td>0.02</td>\n",
       "      <td>0.002023</td>\n",
       "    </tr>\n",
       "    <tr>\n",
       "      <th>13</th>\n",
       "      <td>chr14</td>\n",
       "      <td>0.024547</td>\n",
       "      <td>0.02</td>\n",
       "      <td>0.004547</td>\n",
       "    </tr>\n",
       "    <tr>\n",
       "      <th>14</th>\n",
       "      <td>chr15</td>\n",
       "      <td>0.016747</td>\n",
       "      <td>0.02</td>\n",
       "      <td>-0.003253</td>\n",
       "    </tr>\n",
       "    <tr>\n",
       "      <th>15</th>\n",
       "      <td>chr16</td>\n",
       "      <td>0.021794</td>\n",
       "      <td>0.00</td>\n",
       "      <td>0.021794</td>\n",
       "    </tr>\n",
       "    <tr>\n",
       "      <th>16</th>\n",
       "      <td>chr17</td>\n",
       "      <td>0.016976</td>\n",
       "      <td>0.02</td>\n",
       "      <td>-0.003024</td>\n",
       "    </tr>\n",
       "    <tr>\n",
       "      <th>17</th>\n",
       "      <td>chr18</td>\n",
       "      <td>0.019500</td>\n",
       "      <td>0.00</td>\n",
       "      <td>0.019500</td>\n",
       "    </tr>\n",
       "    <tr>\n",
       "      <th>18</th>\n",
       "      <td>chr19</td>\n",
       "      <td>0.010323</td>\n",
       "      <td>0.02</td>\n",
       "      <td>-0.009677</td>\n",
       "    </tr>\n",
       "    <tr>\n",
       "      <th>19</th>\n",
       "      <td>chr20</td>\n",
       "      <td>0.007571</td>\n",
       "      <td>0.00</td>\n",
       "      <td>0.007571</td>\n",
       "    </tr>\n",
       "    <tr>\n",
       "      <th>20</th>\n",
       "      <td>chr21</td>\n",
       "      <td>0.015600</td>\n",
       "      <td>0.02</td>\n",
       "      <td>-0.004400</td>\n",
       "    </tr>\n",
       "    <tr>\n",
       "      <th>21</th>\n",
       "      <td>chr22</td>\n",
       "      <td>0.005965</td>\n",
       "      <td>0.00</td>\n",
       "      <td>0.005965</td>\n",
       "    </tr>\n",
       "    <tr>\n",
       "      <th>22</th>\n",
       "      <td>chrX</td>\n",
       "      <td>0.192017</td>\n",
       "      <td>0.46</td>\n",
       "      <td>-0.267983</td>\n",
       "    </tr>\n",
       "    <tr>\n",
       "      <th>23</th>\n",
       "      <td>chrY</td>\n",
       "      <td>0.016976</td>\n",
       "      <td>0.00</td>\n",
       "      <td>0.016976</td>\n",
       "    </tr>\n",
       "  </tbody>\n",
       "</table>\n",
       "</div>"
      ],
      "text/plain": [
       "      chr       TEs  CoTEs  difference\n",
       "0    chr1  0.066070   0.06    0.006070\n",
       "1     ch2  0.000000   0.00    0.000000\n",
       "2    chr3  0.087864   0.02    0.067864\n",
       "3    chr4  0.058041   0.04    0.018041\n",
       "4    chr5  0.057811   0.10   -0.042189\n",
       "5    chr6  0.058500   0.06   -0.001500\n",
       "6    chr7  0.039688   0.00    0.039688\n",
       "7    chr8  0.037164   0.00    0.037164\n",
       "8    chr9  0.030970   0.00    0.030970\n",
       "9   chr10  0.037853   0.02    0.017853\n",
       "10  chr11  0.028906   0.00    0.028906\n",
       "11  chr12  0.034412   0.00    0.034412\n",
       "12  chr13  0.022023   0.02    0.002023\n",
       "13  chr14  0.024547   0.02    0.004547\n",
       "14  chr15  0.016747   0.02   -0.003253\n",
       "15  chr16  0.021794   0.00    0.021794\n",
       "16  chr17  0.016976   0.02   -0.003024\n",
       "17  chr18  0.019500   0.00    0.019500\n",
       "18  chr19  0.010323   0.02   -0.009677\n",
       "19  chr20  0.007571   0.00    0.007571\n",
       "20  chr21  0.015600   0.02   -0.004400\n",
       "21  chr22  0.005965   0.00    0.005965\n",
       "22   chrX  0.192017   0.46   -0.267983\n",
       "23   chrY  0.016976   0.00    0.016976"
      ]
     },
     "execution_count": 175,
     "metadata": {},
     "output_type": "execute_result"
    }
   ],
   "source": [
    "df"
   ]
  },
  {
   "cell_type": "markdown",
   "id": "5074d0a3",
   "metadata": {},
   "source": [
    "# Standard Deviation"
   ]
  },
  {
   "cell_type": "code",
   "execution_count": 176,
   "id": "7a632a77",
   "metadata": {},
   "outputs": [],
   "source": [
    "def std_outlier(df):\n",
    "    #two_sd=df.std()*2\n",
    "    three_sd=df.std()*3\n",
    "    df_final=df[((df<(np.mean(df) - three_sd)) | (df>(np.mean(df) + three_sd)))]\n",
    "    return df_final"
   ]
  },
  {
   "cell_type": "code",
   "execution_count": 177,
   "id": "52da7991",
   "metadata": {},
   "outputs": [],
   "source": [
    "std_outliers=std_outlier(df['difference'])"
   ]
  },
  {
   "cell_type": "code",
   "execution_count": 178,
   "id": "7b20f8fc",
   "metadata": {},
   "outputs": [
    {
     "data": {
      "text/plain": [
       "22   -0.267983\n",
       "Name: difference, dtype: float64"
      ]
     },
     "execution_count": 178,
     "metadata": {},
     "output_type": "execute_result"
    }
   ],
   "source": [
    "std_outliers"
   ]
  },
  {
   "cell_type": "code",
   "execution_count": 179,
   "id": "74bebe93",
   "metadata": {},
   "outputs": [],
   "source": [
    "std_rows = df.iloc[std_outliers.index]"
   ]
  },
  {
   "cell_type": "code",
   "execution_count": 180,
   "id": "bcf92d72",
   "metadata": {},
   "outputs": [
    {
     "data": {
      "text/html": [
       "<div>\n",
       "<style scoped>\n",
       "    .dataframe tbody tr th:only-of-type {\n",
       "        vertical-align: middle;\n",
       "    }\n",
       "\n",
       "    .dataframe tbody tr th {\n",
       "        vertical-align: top;\n",
       "    }\n",
       "\n",
       "    .dataframe thead th {\n",
       "        text-align: right;\n",
       "    }\n",
       "</style>\n",
       "<table border=\"1\" class=\"dataframe\">\n",
       "  <thead>\n",
       "    <tr style=\"text-align: right;\">\n",
       "      <th></th>\n",
       "      <th>chr</th>\n",
       "      <th>TEs</th>\n",
       "      <th>CoTEs</th>\n",
       "      <th>difference</th>\n",
       "    </tr>\n",
       "  </thead>\n",
       "  <tbody>\n",
       "    <tr>\n",
       "      <th>22</th>\n",
       "      <td>chrX</td>\n",
       "      <td>0.192017</td>\n",
       "      <td>0.46</td>\n",
       "      <td>-0.267983</td>\n",
       "    </tr>\n",
       "  </tbody>\n",
       "</table>\n",
       "</div>"
      ],
      "text/plain": [
       "     chr       TEs  CoTEs  difference\n",
       "22  chrX  0.192017   0.46   -0.267983"
      ]
     },
     "execution_count": 180,
     "metadata": {},
     "output_type": "execute_result"
    }
   ],
   "source": [
    "std_rows"
   ]
  },
  {
   "cell_type": "markdown",
   "id": "9c1317bd",
   "metadata": {},
   "source": [
    "# Vote"
   ]
  },
  {
   "cell_type": "code",
   "execution_count": 181,
   "id": "76760787",
   "metadata": {},
   "outputs": [],
   "source": [
    "#concatenate the results from three tests and find the frequency of the chromosomes appeared. If it appears >=2, then count it as significant\n",
    "result = pd.concat([IQR, z_outliers, std_rows], ignore_index=True)\n"
   ]
  },
  {
   "cell_type": "code",
   "execution_count": 183,
   "id": "58f49a44",
   "metadata": {},
   "outputs": [],
   "source": [
    "result=result.drop('z-score',axis=1)"
   ]
  },
  {
   "cell_type": "code",
   "execution_count": 184,
   "id": "46c35382",
   "metadata": {},
   "outputs": [
    {
     "data": {
      "text/html": [
       "<div>\n",
       "<style scoped>\n",
       "    .dataframe tbody tr th:only-of-type {\n",
       "        vertical-align: middle;\n",
       "    }\n",
       "\n",
       "    .dataframe tbody tr th {\n",
       "        vertical-align: top;\n",
       "    }\n",
       "\n",
       "    .dataframe thead th {\n",
       "        text-align: right;\n",
       "    }\n",
       "</style>\n",
       "<table border=\"1\" class=\"dataframe\">\n",
       "  <thead>\n",
       "    <tr style=\"text-align: right;\">\n",
       "      <th></th>\n",
       "      <th>chr</th>\n",
       "      <th>TEs</th>\n",
       "      <th>CoTEs</th>\n",
       "      <th>difference</th>\n",
       "    </tr>\n",
       "  </thead>\n",
       "  <tbody>\n",
       "    <tr>\n",
       "      <th>0</th>\n",
       "      <td>chr3</td>\n",
       "      <td>0.087864</td>\n",
       "      <td>0.02</td>\n",
       "      <td>0.067864</td>\n",
       "    </tr>\n",
       "    <tr>\n",
       "      <th>1</th>\n",
       "      <td>chrX</td>\n",
       "      <td>0.192017</td>\n",
       "      <td>0.46</td>\n",
       "      <td>-0.267983</td>\n",
       "    </tr>\n",
       "    <tr>\n",
       "      <th>2</th>\n",
       "      <td>chrX</td>\n",
       "      <td>0.192017</td>\n",
       "      <td>0.46</td>\n",
       "      <td>-0.267983</td>\n",
       "    </tr>\n",
       "    <tr>\n",
       "      <th>3</th>\n",
       "      <td>chrX</td>\n",
       "      <td>0.192017</td>\n",
       "      <td>0.46</td>\n",
       "      <td>-0.267983</td>\n",
       "    </tr>\n",
       "  </tbody>\n",
       "</table>\n",
       "</div>"
      ],
      "text/plain": [
       "    chr       TEs  CoTEs  difference\n",
       "0  chr3  0.087864   0.02    0.067864\n",
       "1  chrX  0.192017   0.46   -0.267983\n",
       "2  chrX  0.192017   0.46   -0.267983\n",
       "3  chrX  0.192017   0.46   -0.267983"
      ]
     },
     "execution_count": 184,
     "metadata": {},
     "output_type": "execute_result"
    }
   ],
   "source": [
    "result"
   ]
  },
  {
   "cell_type": "code",
   "execution_count": 159,
   "id": "4536b97d",
   "metadata": {},
   "outputs": [],
   "source": [
    "# Count the occurrences of each chromosome\n",
    "chr_counts = result['chr'].value_counts()\n",
    "\n",
    "# Filter chromosomes that occur equal to or more than twice\n",
    "selected_chr = chr_counts[chr_counts >= 2].index.tolist()"
   ]
  },
  {
   "cell_type": "code",
   "execution_count": 185,
   "id": "f94f2a13",
   "metadata": {},
   "outputs": [],
   "source": [
    "# Filter the DataFrame to keep rows with selected chromosomes\n",
    "result = result.groupby('chr').filter(lambda x: x['chr'].iloc[0] in selected_chr)\n"
   ]
  },
  {
   "cell_type": "code",
   "execution_count": 186,
   "id": "e9bf9cf8",
   "metadata": {},
   "outputs": [
    {
     "data": {
      "text/html": [
       "<div>\n",
       "<style scoped>\n",
       "    .dataframe tbody tr th:only-of-type {\n",
       "        vertical-align: middle;\n",
       "    }\n",
       "\n",
       "    .dataframe tbody tr th {\n",
       "        vertical-align: top;\n",
       "    }\n",
       "\n",
       "    .dataframe thead th {\n",
       "        text-align: right;\n",
       "    }\n",
       "</style>\n",
       "<table border=\"1\" class=\"dataframe\">\n",
       "  <thead>\n",
       "    <tr style=\"text-align: right;\">\n",
       "      <th></th>\n",
       "      <th>chr</th>\n",
       "      <th>TEs</th>\n",
       "      <th>CoTEs</th>\n",
       "      <th>difference</th>\n",
       "    </tr>\n",
       "  </thead>\n",
       "  <tbody>\n",
       "    <tr>\n",
       "      <th>1</th>\n",
       "      <td>chrX</td>\n",
       "      <td>0.192017</td>\n",
       "      <td>0.46</td>\n",
       "      <td>-0.267983</td>\n",
       "    </tr>\n",
       "    <tr>\n",
       "      <th>2</th>\n",
       "      <td>chrX</td>\n",
       "      <td>0.192017</td>\n",
       "      <td>0.46</td>\n",
       "      <td>-0.267983</td>\n",
       "    </tr>\n",
       "    <tr>\n",
       "      <th>3</th>\n",
       "      <td>chrX</td>\n",
       "      <td>0.192017</td>\n",
       "      <td>0.46</td>\n",
       "      <td>-0.267983</td>\n",
       "    </tr>\n",
       "  </tbody>\n",
       "</table>\n",
       "</div>"
      ],
      "text/plain": [
       "    chr       TEs  CoTEs  difference\n",
       "1  chrX  0.192017   0.46   -0.267983\n",
       "2  chrX  0.192017   0.46   -0.267983\n",
       "3  chrX  0.192017   0.46   -0.267983"
      ]
     },
     "execution_count": 186,
     "metadata": {},
     "output_type": "execute_result"
    }
   ],
   "source": [
    "result"
   ]
  },
  {
   "cell_type": "code",
   "execution_count": 187,
   "id": "5a53f419",
   "metadata": {},
   "outputs": [],
   "source": [
    "unique_df = result.drop_duplicates()"
   ]
  },
  {
   "cell_type": "code",
   "execution_count": 188,
   "id": "4732e133",
   "metadata": {},
   "outputs": [
    {
     "data": {
      "text/html": [
       "<div>\n",
       "<style scoped>\n",
       "    .dataframe tbody tr th:only-of-type {\n",
       "        vertical-align: middle;\n",
       "    }\n",
       "\n",
       "    .dataframe tbody tr th {\n",
       "        vertical-align: top;\n",
       "    }\n",
       "\n",
       "    .dataframe thead th {\n",
       "        text-align: right;\n",
       "    }\n",
       "</style>\n",
       "<table border=\"1\" class=\"dataframe\">\n",
       "  <thead>\n",
       "    <tr style=\"text-align: right;\">\n",
       "      <th></th>\n",
       "      <th>chr</th>\n",
       "      <th>TEs</th>\n",
       "      <th>CoTEs</th>\n",
       "      <th>difference</th>\n",
       "    </tr>\n",
       "  </thead>\n",
       "  <tbody>\n",
       "    <tr>\n",
       "      <th>1</th>\n",
       "      <td>chrX</td>\n",
       "      <td>0.192017</td>\n",
       "      <td>0.46</td>\n",
       "      <td>-0.267983</td>\n",
       "    </tr>\n",
       "  </tbody>\n",
       "</table>\n",
       "</div>"
      ],
      "text/plain": [
       "    chr       TEs  CoTEs  difference\n",
       "1  chrX  0.192017   0.46   -0.267983"
      ]
     },
     "execution_count": 188,
     "metadata": {},
     "output_type": "execute_result"
    }
   ],
   "source": [
    "unique_df"
   ]
  },
  {
   "cell_type": "code",
   "execution_count": null,
   "id": "2be4c27a",
   "metadata": {},
   "outputs": [],
   "source": []
  }
 ],
 "metadata": {
  "kernelspec": {
   "display_name": "Python 3 (ipykernel)",
   "language": "python",
   "name": "python3"
  },
  "language_info": {
   "codemirror_mode": {
    "name": "ipython",
    "version": 3
   },
   "file_extension": ".py",
   "mimetype": "text/x-python",
   "name": "python",
   "nbconvert_exporter": "python",
   "pygments_lexer": "ipython3",
   "version": "3.11.4"
  }
 },
 "nbformat": 4,
 "nbformat_minor": 5
}
